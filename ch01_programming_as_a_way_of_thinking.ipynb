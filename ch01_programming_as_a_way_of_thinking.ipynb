{
 "cells": [
  {
   "cell_type": "markdown",
   "id": "c68883a3-ff1a-4a8f-bbf3-4a1d3c3f15a7",
   "metadata": {},
   "source": [
    "# Chapter 1 Programming as a Way of Thinking"
   ]
  },
  {
   "cell_type": "markdown",
   "id": "2fa40d02-4d3e-427f-9637-ab68c86dda4e",
   "metadata": {},
   "source": [
    "## Arithmetic Operators"
   ]
  },
  {
   "cell_type": "code",
   "execution_count": 1,
   "id": "011c940d-594a-4ed2-b07d-5108f344a367",
   "metadata": {},
   "outputs": [
    {
     "data": {
      "text/plain": [
       "42"
      ]
     },
     "execution_count": 1,
     "metadata": {},
     "output_type": "execute_result"
    }
   ],
   "source": [
    "30 + 12"
   ]
  },
  {
   "cell_type": "code",
   "execution_count": 2,
   "id": "51ffd1b8-0008-44c0-8a3a-7d7c16dd8e44",
   "metadata": {},
   "outputs": [
    {
     "data": {
      "text/plain": [
       "42"
      ]
     },
     "execution_count": 2,
     "metadata": {},
     "output_type": "execute_result"
    }
   ],
   "source": [
    "43 - 1"
   ]
  },
  {
   "cell_type": "code",
   "execution_count": 3,
   "id": "64223122-1be1-4c1d-bfc9-468f9090b105",
   "metadata": {},
   "outputs": [
    {
     "data": {
      "text/plain": [
       "42"
      ]
     },
     "execution_count": 3,
     "metadata": {},
     "output_type": "execute_result"
    }
   ],
   "source": [
    "6 * 7"
   ]
  },
  {
   "cell_type": "code",
   "execution_count": 4,
   "id": "4410b0ae-09b5-4b0c-9b6a-c6184ae4cbab",
   "metadata": {},
   "outputs": [
    {
     "data": {
      "text/plain": [
       "42.0"
      ]
     },
     "execution_count": 4,
     "metadata": {},
     "output_type": "execute_result"
    }
   ],
   "source": [
    "84 / 2"
   ]
  },
  {
   "cell_type": "code",
   "execution_count": 5,
   "id": "61e8f77e-1be5-4617-b96c-92354f2d81dd",
   "metadata": {},
   "outputs": [
    {
     "data": {
      "text/plain": [
       "42"
      ]
     },
     "execution_count": 5,
     "metadata": {},
     "output_type": "execute_result"
    }
   ],
   "source": [
    "# integer division\n",
    "84 // 2"
   ]
  },
  {
   "cell_type": "code",
   "execution_count": 6,
   "id": "59b5f681-acd0-4001-bbcf-97c35a333bcb",
   "metadata": {},
   "outputs": [
    {
     "data": {
      "text/plain": [
       "42"
      ]
     },
     "execution_count": 6,
     "metadata": {},
     "output_type": "execute_result"
    }
   ],
   "source": [
    "# integer division is also called \"floor division\"\n",
    "85 // 2"
   ]
  },
  {
   "cell_type": "code",
   "execution_count": 7,
   "id": "6603ea10-ee6f-44de-90cf-bbb40f8edd9f",
   "metadata": {},
   "outputs": [
    {
     "data": {
      "text/plain": [
       "49"
      ]
     },
     "execution_count": 7,
     "metadata": {},
     "output_type": "execute_result"
    }
   ],
   "source": [
    "7 ** 2"
   ]
  },
  {
   "cell_type": "code",
   "execution_count": 8,
   "id": "601f9bd2-b13d-4da5-95aa-4d27be16104f",
   "metadata": {},
   "outputs": [
    {
     "data": {
      "text/plain": [
       "5"
      ]
     },
     "execution_count": 8,
     "metadata": {},
     "output_type": "execute_result"
    }
   ],
   "source": [
    "# XOR\n",
    "7 ^ 2"
   ]
  },
  {
   "cell_type": "markdown",
   "id": "796a26be-6c4c-4046-9fea-e2d182394c81",
   "metadata": {},
   "source": [
    "## Expressions"
   ]
  },
  {
   "cell_type": "code",
   "execution_count": 9,
   "id": "900241fb-7524-4190-8c5d-4e2042d1332d",
   "metadata": {},
   "outputs": [
    {
     "data": {
      "text/plain": [
       "42"
      ]
     },
     "execution_count": 9,
     "metadata": {},
     "output_type": "execute_result"
    }
   ],
   "source": [
    "6 + 6 ** 2"
   ]
  },
  {
   "cell_type": "code",
   "execution_count": 10,
   "id": "c22487f5-14bb-4a62-8a33-427d04827786",
   "metadata": {},
   "outputs": [
    {
     "data": {
      "text/plain": [
       "42"
      ]
     },
     "execution_count": 10,
     "metadata": {},
     "output_type": "execute_result"
    }
   ],
   "source": [
    "12 + 5 * 6"
   ]
  },
  {
   "cell_type": "code",
   "execution_count": 11,
   "id": "0dce526a-225e-479e-9299-4e5a8179af68",
   "metadata": {},
   "outputs": [
    {
     "data": {
      "text/plain": [
       "102"
      ]
     },
     "execution_count": 11,
     "metadata": {},
     "output_type": "execute_result"
    }
   ],
   "source": [
    "(12 + 5) * 6"
   ]
  },
  {
   "cell_type": "markdown",
   "id": "4a25c334-a235-4973-a4ce-89f2140d13d2",
   "metadata": {},
   "source": [
    "## Arithmetic Functions"
   ]
  },
  {
   "cell_type": "code",
   "execution_count": 12,
   "id": "5606c66f-84fd-4c9e-87ce-a61d41cffa87",
   "metadata": {},
   "outputs": [
    {
     "data": {
      "text/plain": [
       "42"
      ]
     },
     "execution_count": 12,
     "metadata": {},
     "output_type": "execute_result"
    }
   ],
   "source": [
    "round(42.4)"
   ]
  },
  {
   "cell_type": "code",
   "execution_count": 13,
   "id": "b5902cf0-8bc3-4e4e-95ed-1b67d7c13011",
   "metadata": {},
   "outputs": [
    {
     "data": {
      "text/plain": [
       "43"
      ]
     },
     "execution_count": 13,
     "metadata": {},
     "output_type": "execute_result"
    }
   ],
   "source": [
    "round(42.6)"
   ]
  },
  {
   "cell_type": "code",
   "execution_count": 14,
   "id": "58960c8c-18a9-4478-9f99-ac99536e86ce",
   "metadata": {},
   "outputs": [
    {
     "data": {
      "text/plain": [
       "42"
      ]
     },
     "execution_count": 14,
     "metadata": {},
     "output_type": "execute_result"
    }
   ],
   "source": [
    "abs(42)"
   ]
  },
  {
   "cell_type": "code",
   "execution_count": 15,
   "id": "825b9281-6c93-4cab-b706-d9c37c7dfe7f",
   "metadata": {},
   "outputs": [
    {
     "data": {
      "text/plain": [
       "42"
      ]
     },
     "execution_count": 15,
     "metadata": {},
     "output_type": "execute_result"
    }
   ],
   "source": [
    "abs(-42)"
   ]
  },
  {
   "cell_type": "code",
   "execution_count": 16,
   "id": "f967a696-343e-4f54-b3da-bb24ec193e94",
   "metadata": {},
   "outputs": [
    {
     "data": {
      "text/plain": [
       "<function abs(x, /)>"
      ]
     },
     "execution_count": 16,
     "metadata": {},
     "output_type": "execute_result"
    }
   ],
   "source": [
    "abs"
   ]
  },
  {
   "cell_type": "markdown",
   "id": "95e5d79b-f933-4633-af91-8991fa774b46",
   "metadata": {},
   "source": [
    "## Strings"
   ]
  },
  {
   "cell_type": "code",
   "execution_count": 17,
   "id": "c0c39dc8-c215-4c1f-a2fb-fda771ff5823",
   "metadata": {},
   "outputs": [
    {
     "data": {
      "text/plain": [
       "'Hello'"
      ]
     },
     "execution_count": 17,
     "metadata": {},
     "output_type": "execute_result"
    }
   ],
   "source": [
    "'Hello'"
   ]
  },
  {
   "cell_type": "code",
   "execution_count": 18,
   "id": "26ede5d6-f649-4518-a32c-f6303794b5fb",
   "metadata": {},
   "outputs": [
    {
     "data": {
      "text/plain": [
       "'world'"
      ]
     },
     "execution_count": 18,
     "metadata": {},
     "output_type": "execute_result"
    }
   ],
   "source": [
    "\"world\""
   ]
  },
  {
   "cell_type": "code",
   "execution_count": 19,
   "id": "3933f362-2ba0-4d76-afbc-970015b51aad",
   "metadata": {},
   "outputs": [
    {
     "data": {
      "text/plain": [
       "\"it's a small \""
      ]
     },
     "execution_count": 19,
     "metadata": {},
     "output_type": "execute_result"
    }
   ],
   "source": [
    "\"it's a small \""
   ]
  },
  {
   "cell_type": "code",
   "execution_count": 20,
   "id": "1ad01d0b-3d0e-4b5b-917c-a03f1c52bc6a",
   "metadata": {},
   "outputs": [
    {
     "data": {
      "text/plain": [
       "'Well, '"
      ]
     },
     "execution_count": 20,
     "metadata": {},
     "output_type": "execute_result"
    }
   ],
   "source": [
    "'Well, '"
   ]
  },
  {
   "cell_type": "code",
   "execution_count": 21,
   "id": "9df88c67-5fbf-4949-b36f-3a84a1d5e003",
   "metadata": {},
   "outputs": [
    {
     "data": {
      "text/plain": [
       "\"Well, it's a small world.\""
      ]
     },
     "execution_count": 21,
     "metadata": {},
     "output_type": "execute_result"
    }
   ],
   "source": [
    "# concatenation\n",
    "'Well, ' + \"it's a small \" + 'world.'"
   ]
  },
  {
   "cell_type": "code",
   "execution_count": 22,
   "id": "0c034aa9-211c-436e-bc36-78e31d023b0b",
   "metadata": {},
   "outputs": [
    {
     "data": {
      "text/plain": [
       "'Spam, Spam, Spam, Spam, '"
      ]
     },
     "execution_count": 22,
     "metadata": {},
     "output_type": "execute_result"
    }
   ],
   "source": [
    "'Spam, ' * 4"
   ]
  },
  {
   "cell_type": "code",
   "execution_count": 23,
   "id": "4a9f1080-f8d3-440b-b32e-8dc05c713f71",
   "metadata": {},
   "outputs": [
    {
     "data": {
      "text/plain": [
       "4"
      ]
     },
     "execution_count": 23,
     "metadata": {},
     "output_type": "execute_result"
    }
   ],
   "source": [
    "len('Spam')"
   ]
  },
  {
   "cell_type": "markdown",
   "id": "596df75e-caa2-4afa-8183-c2670b8f958e",
   "metadata": {},
   "source": [
    "## Values and Types"
   ]
  },
  {
   "cell_type": "code",
   "execution_count": 24,
   "id": "c67dfcd9-e829-48d2-a348-6895d0815827",
   "metadata": {},
   "outputs": [
    {
     "data": {
      "text/plain": [
       "int"
      ]
     },
     "execution_count": 24,
     "metadata": {},
     "output_type": "execute_result"
    }
   ],
   "source": [
    "type(2)"
   ]
  },
  {
   "cell_type": "code",
   "execution_count": 25,
   "id": "0dc14500-4c75-4572-816a-4f3909a1eeb9",
   "metadata": {},
   "outputs": [
    {
     "data": {
      "text/plain": [
       "float"
      ]
     },
     "execution_count": 25,
     "metadata": {},
     "output_type": "execute_result"
    }
   ],
   "source": [
    "type(42.0)"
   ]
  },
  {
   "cell_type": "code",
   "execution_count": 26,
   "id": "7f241e8d-ba92-4d91-b3cf-b5ddee935f0c",
   "metadata": {},
   "outputs": [
    {
     "data": {
      "text/plain": [
       "str"
      ]
     },
     "execution_count": 26,
     "metadata": {},
     "output_type": "execute_result"
    }
   ],
   "source": [
    "type('Hello, World!')"
   ]
  },
  {
   "cell_type": "code",
   "execution_count": 27,
   "id": "ce65cf9b-baf6-43b8-95ce-588fd422cbde",
   "metadata": {},
   "outputs": [
    {
     "data": {
      "text/plain": [
       "42"
      ]
     },
     "execution_count": 27,
     "metadata": {},
     "output_type": "execute_result"
    }
   ],
   "source": [
    "int(42.9)"
   ]
  },
  {
   "cell_type": "code",
   "execution_count": 28,
   "id": "20be3b1f-7de2-41e3-890c-67f48c839777",
   "metadata": {},
   "outputs": [
    {
     "data": {
      "text/plain": [
       "42.0"
      ]
     },
     "execution_count": 28,
     "metadata": {},
     "output_type": "execute_result"
    }
   ],
   "source": [
    "float(42)"
   ]
  },
  {
   "cell_type": "code",
   "execution_count": 29,
   "id": "2b6bbae7-921e-424a-824f-69df34a04db1",
   "metadata": {},
   "outputs": [
    {
     "data": {
      "text/plain": [
       "'126'"
      ]
     },
     "execution_count": 29,
     "metadata": {},
     "output_type": "execute_result"
    }
   ],
   "source": [
    "'126'"
   ]
  },
  {
   "cell_type": "code",
   "execution_count": 30,
   "id": "386adedb-b043-48be-b883-329e346896de",
   "metadata": {},
   "outputs": [
    {
     "data": {
      "text/plain": [
       "str"
      ]
     },
     "execution_count": 30,
     "metadata": {},
     "output_type": "execute_result"
    }
   ],
   "source": [
    "type('126')"
   ]
  },
  {
   "cell_type": "code",
   "execution_count": 31,
   "id": "2e6bcc9f-9204-4448-b3cb-c1691d5f46ba",
   "metadata": {},
   "outputs": [],
   "source": [
    "# TypeError: unsupported operand type(s) for /: 'str' and 'int'\n",
    "# '126' / 3"
   ]
  },
  {
   "cell_type": "code",
   "execution_count": 32,
   "id": "583569c5-3eaa-46ca-b26a-42adab566d11",
   "metadata": {},
   "outputs": [
    {
     "data": {
      "text/plain": [
       "42.0"
      ]
     },
     "execution_count": 32,
     "metadata": {},
     "output_type": "execute_result"
    }
   ],
   "source": [
    "int('126') / 3"
   ]
  },
  {
   "cell_type": "code",
   "execution_count": 33,
   "id": "2501e2e3-b583-47c0-ba3a-c3e5064fb9bd",
   "metadata": {},
   "outputs": [
    {
     "data": {
      "text/plain": [
       "12.6"
      ]
     },
     "execution_count": 33,
     "metadata": {},
     "output_type": "execute_result"
    }
   ],
   "source": [
    "float('12.6')"
   ]
  },
  {
   "cell_type": "code",
   "execution_count": 34,
   "id": "c7bea2ab-4380-4bf8-8523-78faf203a29f",
   "metadata": {},
   "outputs": [
    {
     "data": {
      "text/plain": [
       "(1, 0, 0)"
      ]
     },
     "execution_count": 34,
     "metadata": {},
     "output_type": "execute_result"
    }
   ],
   "source": [
    "# not an integer, but a tuple\n",
    "1,000,000"
   ]
  },
  {
   "cell_type": "code",
   "execution_count": 35,
   "id": "1ba61483-b8ee-4a38-8a3c-c2515d80c53f",
   "metadata": {},
   "outputs": [
    {
     "data": {
      "text/plain": [
       "1000000"
      ]
     },
     "execution_count": 35,
     "metadata": {},
     "output_type": "execute_result"
    }
   ],
   "source": [
    "# use underscores to make large numbers easier to read\n",
    "1_000_000"
   ]
  },
  {
   "cell_type": "markdown",
   "id": "e08acc37-99a6-40ed-a851-5e8693604507",
   "metadata": {},
   "source": [
    "## Formal and Natural Languages"
   ]
  },
  {
   "cell_type": "markdown",
   "id": "6ec3885e-f119-4df5-89dd-97729c52c70c",
   "metadata": {},
   "source": [
    "## Debugging"
   ]
  },
  {
   "cell_type": "markdown",
   "id": "8fe8f44c-73c0-49ff-bfc5-c6e0f9be9604",
   "metadata": {},
   "source": [
    "## Glossary"
   ]
  }
 ],
 "metadata": {
  "kernelspec": {
   "display_name": "Python 3 (ipykernel)",
   "language": "python",
   "name": "python3"
  },
  "language_info": {
   "codemirror_mode": {
    "name": "ipython",
    "version": 3
   },
   "file_extension": ".py",
   "mimetype": "text/x-python",
   "name": "python",
   "nbconvert_exporter": "python",
   "pygments_lexer": "ipython3",
   "version": "3.9.7"
  }
 },
 "nbformat": 4,
 "nbformat_minor": 5
}
