{
 "cells": [
  {
   "cell_type": "markdown",
   "id": "3f8cbcf0",
   "metadata": {},
   "source": [
    "# Chapter 4 Functions and Intefaces"
   ]
  },
  {
   "cell_type": "markdown",
   "id": "6a8e1ab9",
   "metadata": {},
   "source": [
    "## The jupyturtle Module"
   ]
  },
  {
   "cell_type": "code",
   "execution_count": 1,
   "id": "a949bb36",
   "metadata": {},
   "outputs": [],
   "source": [
    "import jupyturtle"
   ]
  },
  {
   "cell_type": "code",
   "execution_count": 2,
   "id": "1134dfaf",
   "metadata": {},
   "outputs": [
    {
     "data": {
      "text/html": [
       "<svg width=\"300\" height=\"150\" style=\"fill:none; stroke-linecap:round;\">\n",
       "    <rect width=\"100%\" height=\"100%\" fill=\"#F3F3F7\" />\n",
       "\n",
       "\n",
       "<path stroke=\"#663399\" stroke-width=\"2\" d=\"M 150,75 250,75\" />'\n",
       "\n",
       "<g transform=\"rotate(-90.0,250.0,75.0) translate(250.0, 75.0)\">\n",
       "    <circle stroke=\"#63A375\" stroke-width=\"2\" fill=\"transparent\" r=\"5.5\" cx=\"0\" cy=\"0\"/>\n",
       "    <polygon points=\"0,12 2,9 -2,9\" style=\"fill:#63A375;stroke:#63A375;stroke-width:2\"/>\n",
       "</g>\n",
       "\n",
       "</svg>"
      ],
      "text/plain": [
       "<IPython.core.display.HTML object>"
      ]
     },
     "metadata": {},
     "output_type": "display_data"
    }
   ],
   "source": [
    "jupyturtle.make_turtle()\n",
    "jupyturtle.forward(100)"
   ]
  },
  {
   "cell_type": "code",
   "execution_count": 3,
   "id": "4fe885ec-4cc4-4f37-aa39-24f0982037e7",
   "metadata": {},
   "outputs": [],
   "source": [
    "from jupyturtle import make_turtle, forward"
   ]
  },
  {
   "cell_type": "code",
   "execution_count": 4,
   "id": "f9857a09-c04e-4364-8747-6a01c58ce0dc",
   "metadata": {},
   "outputs": [
    {
     "data": {
      "text/html": [
       "<svg width=\"300\" height=\"150\" style=\"fill:none; stroke-linecap:round;\">\n",
       "    <rect width=\"100%\" height=\"100%\" fill=\"#F3F3F7\" />\n",
       "\n",
       "\n",
       "<path stroke=\"#663399\" stroke-width=\"2\" d=\"M 150,75 250,75\" />'\n",
       "\n",
       "<g transform=\"rotate(-90.0,250.0,75.0) translate(250.0, 75.0)\">\n",
       "    <circle stroke=\"#63A375\" stroke-width=\"2\" fill=\"transparent\" r=\"5.5\" cx=\"0\" cy=\"0\"/>\n",
       "    <polygon points=\"0,12 2,9 -2,9\" style=\"fill:#63A375;stroke:#63A375;stroke-width:2\"/>\n",
       "</g>\n",
       "\n",
       "</svg>"
      ],
      "text/plain": [
       "<IPython.core.display.HTML object>"
      ]
     },
     "metadata": {},
     "output_type": "display_data"
    }
   ],
   "source": [
    "make_turtle()\n",
    "forward(100)"
   ]
  },
  {
   "cell_type": "code",
   "execution_count": 5,
   "id": "f354cebd-032d-4253-8063-1e25b9c73d0f",
   "metadata": {},
   "outputs": [],
   "source": [
    "from jupyturtle import left, right"
   ]
  },
  {
   "cell_type": "code",
   "execution_count": 6,
   "id": "8510c603-bed2-44dd-8df7-9e76a02c7b46",
   "metadata": {},
   "outputs": [
    {
     "data": {
      "text/html": [
       "<svg width=\"300\" height=\"150\" style=\"fill:none; stroke-linecap:round;\">\n",
       "    <rect width=\"100%\" height=\"100%\" fill=\"#F3F3F7\" />\n",
       "\n",
       "\n",
       "<path stroke=\"#663399\" stroke-width=\"2\" d=\"M 150,75 200,75 200,25\" />'\n",
       "\n",
       "<g transform=\"rotate(180.0,200.0,25.0) translate(200.0, 25.0)\">\n",
       "    <circle stroke=\"#63A375\" stroke-width=\"2\" fill=\"transparent\" r=\"5.5\" cx=\"0\" cy=\"0\"/>\n",
       "    <polygon points=\"0,12 2,9 -2,9\" style=\"fill:#63A375;stroke:#63A375;stroke-width:2\"/>\n",
       "</g>\n",
       "\n",
       "</svg>"
      ],
      "text/plain": [
       "<IPython.core.display.HTML object>"
      ]
     },
     "metadata": {},
     "output_type": "display_data"
    }
   ],
   "source": [
    "make_turtle()\n",
    "forward(50)\n",
    "left(90)\n",
    "forward(50)"
   ]
  },
  {
   "cell_type": "markdown",
   "id": "c05c54a5-7218-43c0-95fa-7f5321dcceb2",
   "metadata": {},
   "source": [
    "## Making a Square"
   ]
  },
  {
   "cell_type": "code",
   "execution_count": 7,
   "id": "fada0d3e-20e4-44f2-bd7a-f986e71a958d",
   "metadata": {},
   "outputs": [
    {
     "data": {
      "text/html": [
       "<svg width=\"300\" height=\"150\" style=\"fill:none; stroke-linecap:round;\">\n",
       "    <rect width=\"100%\" height=\"100%\" fill=\"#F3F3F7\" />\n",
       "\n",
       "\n",
       "<path stroke=\"#663399\" stroke-width=\"2\" d=\"M 150,75 200,75 200,25 150,25 150,75\" />'\n",
       "\n",
       "<g transform=\"rotate(-90.0,150.0,75.0) translate(150.0, 75.0)\">\n",
       "    <circle stroke=\"#63A375\" stroke-width=\"2\" fill=\"transparent\" r=\"5.5\" cx=\"0\" cy=\"0\"/>\n",
       "    <polygon points=\"0,12 2,9 -2,9\" style=\"fill:#63A375;stroke:#63A375;stroke-width:2\"/>\n",
       "</g>\n",
       "\n",
       "</svg>"
      ],
      "text/plain": [
       "<IPython.core.display.HTML object>"
      ]
     },
     "metadata": {},
     "output_type": "display_data"
    }
   ],
   "source": [
    "make_turtle()\n",
    "\n",
    "forward(50)\n",
    "left(90)\n",
    "\n",
    "forward(50)\n",
    "left(90)\n",
    "\n",
    "forward(50)\n",
    "left(90)\n",
    "\n",
    "forward(50)\n",
    "left(90)"
   ]
  },
  {
   "cell_type": "code",
   "execution_count": 8,
   "id": "ceb1f17a-b0fb-47e3-9eab-dbd2c8f1a5d3",
   "metadata": {},
   "outputs": [
    {
     "data": {
      "text/html": [
       "<svg width=\"300\" height=\"150\" style=\"fill:none; stroke-linecap:round;\">\n",
       "    <rect width=\"100%\" height=\"100%\" fill=\"#F3F3F7\" />\n",
       "\n",
       "\n",
       "<path stroke=\"#663399\" stroke-width=\"2\" d=\"M 150,75 200,75 200,25 150,25 150,75\" />'\n",
       "\n",
       "<g transform=\"rotate(-90.0,150.0,75.0) translate(150.0, 75.0)\">\n",
       "    <circle stroke=\"#63A375\" stroke-width=\"2\" fill=\"transparent\" r=\"5.5\" cx=\"0\" cy=\"0\"/>\n",
       "    <polygon points=\"0,12 2,9 -2,9\" style=\"fill:#63A375;stroke:#63A375;stroke-width:2\"/>\n",
       "</g>\n",
       "\n",
       "</svg>"
      ],
      "text/plain": [
       "<IPython.core.display.HTML object>"
      ]
     },
     "metadata": {},
     "output_type": "display_data"
    }
   ],
   "source": [
    "make_turtle()\n",
    "for i in range(4):\n",
    "    forward(50)\n",
    "    left(90)"
   ]
  },
  {
   "cell_type": "markdown",
   "id": "e746d336-aa0a-4421-8b0d-422684c3033c",
   "metadata": {},
   "source": [
    "## Encapsulation and Generalization"
   ]
  },
  {
   "cell_type": "code",
   "execution_count": 9,
   "id": "8f7cd069-9d15-4d61-bccf-b812b1fbd9f1",
   "metadata": {},
   "outputs": [],
   "source": [
    "def square():\n",
    "    for i in range(4):\n",
    "        forward(50)\n",
    "        left(90)"
   ]
  },
  {
   "cell_type": "code",
   "execution_count": 10,
   "id": "9721b82b-7a49-40a1-ae8e-6a2551e51411",
   "metadata": {},
   "outputs": [
    {
     "data": {
      "text/html": [
       "<svg width=\"300\" height=\"150\" style=\"fill:none; stroke-linecap:round;\">\n",
       "    <rect width=\"100%\" height=\"100%\" fill=\"#F3F3F7\" />\n",
       "\n",
       "\n",
       "<path stroke=\"#663399\" stroke-width=\"2\" d=\"M 150,75 200,75 200,25 150,25 150,75\" />'\n",
       "\n",
       "<g transform=\"rotate(-90.0,150.0,75.0) translate(150.0, 75.0)\">\n",
       "    <circle stroke=\"#63A375\" stroke-width=\"2\" fill=\"transparent\" r=\"5.5\" cx=\"0\" cy=\"0\"/>\n",
       "    <polygon points=\"0,12 2,9 -2,9\" style=\"fill:#63A375;stroke:#63A375;stroke-width:2\"/>\n",
       "</g>\n",
       "\n",
       "</svg>"
      ],
      "text/plain": [
       "<IPython.core.display.HTML object>"
      ]
     },
     "metadata": {},
     "output_type": "display_data"
    }
   ],
   "source": [
    "make_turtle()\n",
    "square()"
   ]
  },
  {
   "cell_type": "code",
   "execution_count": 11,
   "id": "baf99e0c-8d2c-47df-a05a-13fcfcbcffa9",
   "metadata": {},
   "outputs": [],
   "source": [
    "def square(length):\n",
    "    for i in range(4):\n",
    "        forward(length)\n",
    "        left(90)"
   ]
  },
  {
   "cell_type": "code",
   "execution_count": 12,
   "id": "23588898-b01e-433b-a1c0-b3cceb6df08f",
   "metadata": {},
   "outputs": [
    {
     "data": {
      "text/html": [
       "<svg width=\"300\" height=\"150\" style=\"fill:none; stroke-linecap:round;\">\n",
       "    <rect width=\"100%\" height=\"100%\" fill=\"#F3F3F7\" />\n",
       "\n",
       "\n",
       "<path stroke=\"#663399\" stroke-width=\"2\" d=\"M 150,75 180,75 180,45 150,45 150,75 210,75 210,15 150,15 150,75\" />'\n",
       "\n",
       "<g transform=\"rotate(-90.0,150.0,75.0) translate(150.0, 75.0)\">\n",
       "    <circle stroke=\"#63A375\" stroke-width=\"2\" fill=\"transparent\" r=\"5.5\" cx=\"0\" cy=\"0\"/>\n",
       "    <polygon points=\"0,12 2,9 -2,9\" style=\"fill:#63A375;stroke:#63A375;stroke-width:2\"/>\n",
       "</g>\n",
       "\n",
       "</svg>"
      ],
      "text/plain": [
       "<IPython.core.display.HTML object>"
      ]
     },
     "metadata": {},
     "output_type": "display_data"
    }
   ],
   "source": [
    "make_turtle()\n",
    "square(30)\n",
    "square(60)"
   ]
  },
  {
   "cell_type": "code",
   "execution_count": 13,
   "id": "85058dec-65e0-425a-adf0-cc0b9ea49933",
   "metadata": {},
   "outputs": [],
   "source": [
    "def polygon(n, length):\n",
    "    angle = 360 / n\n",
    "    for i in range(n):\n",
    "        forward(length)\n",
    "        left(angle)"
   ]
  },
  {
   "cell_type": "code",
   "execution_count": 14,
   "id": "a58f25ae-e543-4ead-ba6e-9aa03ffb2f11",
   "metadata": {},
   "outputs": [
    {
     "data": {
      "text/html": [
       "<svg width=\"300\" height=\"150\" style=\"fill:none; stroke-linecap:round;\">\n",
       "    <rect width=\"100%\" height=\"100%\" fill=\"#F3F3F7\" />\n",
       "\n",
       "\n",
       "<path stroke=\"#663399\" stroke-width=\"2\" d=\"M 150,75 180,75 198.7,51.5 192,22.3 165,9.3 138,22.3 131.3,51.5 150,75\" />'\n",
       "\n",
       "<g transform=\"rotate(270.0,150.0,75.0) translate(150.0, 75.0)\">\n",
       "    <circle stroke=\"#63A375\" stroke-width=\"2\" fill=\"transparent\" r=\"5.5\" cx=\"0\" cy=\"0\"/>\n",
       "    <polygon points=\"0,12 2,9 -2,9\" style=\"fill:#63A375;stroke:#63A375;stroke-width:2\"/>\n",
       "</g>\n",
       "\n",
       "</svg>"
      ],
      "text/plain": [
       "<IPython.core.display.HTML object>"
      ]
     },
     "metadata": {},
     "output_type": "display_data"
    }
   ],
   "source": [
    "make_turtle()\n",
    "polygon(7, 30)"
   ]
  },
  {
   "cell_type": "code",
   "execution_count": 15,
   "id": "b95221b3-8d29-45f6-b8aa-3102d7ae8437",
   "metadata": {},
   "outputs": [
    {
     "data": {
      "text/html": [
       "<svg width=\"300\" height=\"150\" style=\"fill:none; stroke-linecap:round;\">\n",
       "    <rect width=\"100%\" height=\"100%\" fill=\"#F3F3F7\" />\n",
       "\n",
       "\n",
       "<path stroke=\"#663399\" stroke-width=\"2\" d=\"M 150,75 180,75 198.7,51.5 192,22.3 165,9.3 138,22.3 131.3,51.5 150,75\" />'\n",
       "\n",
       "<g transform=\"rotate(270.0,150.0,75.0) translate(150.0, 75.0)\">\n",
       "    <circle stroke=\"#63A375\" stroke-width=\"2\" fill=\"transparent\" r=\"5.5\" cx=\"0\" cy=\"0\"/>\n",
       "    <polygon points=\"0,12 2,9 -2,9\" style=\"fill:#63A375;stroke:#63A375;stroke-width:2\"/>\n",
       "</g>\n",
       "\n",
       "</svg>"
      ],
      "text/plain": [
       "<IPython.core.display.HTML object>"
      ]
     },
     "metadata": {},
     "output_type": "display_data"
    }
   ],
   "source": [
    "make_turtle()\n",
    "polygon(n=7, length=30)"
   ]
  },
  {
   "cell_type": "markdown",
   "id": "fed5c44c-fe29-4645-94e1-628c48de248d",
   "metadata": {},
   "source": [
    "## Approximating a Circle"
   ]
  },
  {
   "cell_type": "code",
   "execution_count": 16,
   "id": "5110df58-4f30-4279-a404-89704054014f",
   "metadata": {},
   "outputs": [],
   "source": [
    "import math\n",
    "\n",
    "def circle(radius):\n",
    "    circumference = 2 * math.pi * radius\n",
    "    n = 30\n",
    "    length = circumference / n\n",
    "    polygon(n, length)"
   ]
  },
  {
   "cell_type": "code",
   "execution_count": 17,
   "id": "2c87b3cd-6300-4247-b88c-83e9d7ef87e1",
   "metadata": {},
   "outputs": [
    {
     "data": {
      "text/html": [
       "<svg width=\"300\" height=\"150\" style=\"fill:none; stroke-linecap:round;\">\n",
       "    <rect width=\"100%\" height=\"100%\" fill=\"#F3F3F7\" />\n",
       "\n",
       "\n",
       "<path stroke=\"#663399\" stroke-width=\"2\" d=\"M 150,75 156.3,75 162.4,73.7 168.2,71.1 173.3,67.4 177.5,62.8 180.6,57.3 182.5,51.4 183.2,45.1 182.5,38.9 180.6,32.9 177.5,27.4 173.3,22.8 168.2,19.1 162.4,16.5 156.3,15.2 150,15.2 143.9,16.5 138.1,19.1 133,22.8 128.8,27.4 125.7,32.9 123.7,38.9 123.1,45.1 123.7,51.4 125.7,57.3 128.8,62.8 133,67.4 138.1,71.1 143.9,73.7 150,75\" />'\n",
       "\n",
       "<g transform=\"rotate(-90.0,150.0,75.0) translate(150.0, 75.0)\">\n",
       "    <circle stroke=\"#63A375\" stroke-width=\"2\" fill=\"transparent\" r=\"5.5\" cx=\"0\" cy=\"0\"/>\n",
       "    <polygon points=\"0,12 2,9 -2,9\" style=\"fill:#63A375;stroke:#63A375;stroke-width:2\"/>\n",
       "</g>\n",
       "\n",
       "</svg>"
      ],
      "text/plain": [
       "<IPython.core.display.HTML object>"
      ]
     },
     "metadata": {},
     "output_type": "display_data"
    }
   ],
   "source": [
    "make_turtle(delay=0.02)\n",
    "circle(30)"
   ]
  },
  {
   "cell_type": "markdown",
   "id": "99e4d269-2588-4d25-b4a9-4cd3f5a2b4f0",
   "metadata": {},
   "source": [
    "## Refactoring"
   ]
  },
  {
   "cell_type": "code",
   "execution_count": 18,
   "id": "6cd91738-2769-4d3b-ae9c-47198a546b38",
   "metadata": {},
   "outputs": [],
   "source": [
    "def polyline(n, length, angle):\n",
    "    for i in range(n):\n",
    "        forward(length)\n",
    "        left(angle)"
   ]
  },
  {
   "cell_type": "code",
   "execution_count": 19,
   "id": "e1545fca-1f77-43da-9136-c6c9f2a40d4f",
   "metadata": {},
   "outputs": [],
   "source": [
    "def polygon(n, length):\n",
    "    angle = 360.0 / n\n",
    "    polyline(n, length, angle)"
   ]
  },
  {
   "cell_type": "code",
   "execution_count": 20,
   "id": "a61a147b-55d7-4c7d-b820-33560116d26f",
   "metadata": {},
   "outputs": [
    {
     "data": {
      "text/html": [
       "<svg width=\"300\" height=\"150\" style=\"fill:none; stroke-linecap:round;\">\n",
       "    <rect width=\"100%\" height=\"100%\" fill=\"#F3F3F7\" />\n",
       "\n",
       "\n",
       "<path stroke=\"#663399\" stroke-width=\"2\" d=\"M 150,75 190,75 210,40.4 190,5.7 150,5.7 130,40.4 150,75\" />'\n",
       "\n",
       "<g transform=\"rotate(-90.0,150.0,75.0) translate(150.0, 75.0)\">\n",
       "    <circle stroke=\"#63A375\" stroke-width=\"2\" fill=\"transparent\" r=\"5.5\" cx=\"0\" cy=\"0\"/>\n",
       "    <polygon points=\"0,12 2,9 -2,9\" style=\"fill:#63A375;stroke:#63A375;stroke-width:2\"/>\n",
       "</g>\n",
       "\n",
       "</svg>"
      ],
      "text/plain": [
       "<IPython.core.display.HTML object>"
      ]
     },
     "metadata": {},
     "output_type": "display_data"
    }
   ],
   "source": [
    "make_turtle()\n",
    "polygon(6, 40)"
   ]
  },
  {
   "cell_type": "code",
   "execution_count": 21,
   "id": "89bd966d-1983-4824-b590-d724876b8ea4",
   "metadata": {},
   "outputs": [],
   "source": [
    "def arc(radius, angle):\n",
    "    arc_length = 2 * math.pi * radius * angle / 360\n",
    "    n = 30\n",
    "    length = arc_length / n\n",
    "    step_angle = angle / n\n",
    "    polyline(n, length, step_angle)"
   ]
  },
  {
   "cell_type": "code",
   "execution_count": 22,
   "id": "8558c697-c0aa-469c-9550-6336cc34b628",
   "metadata": {},
   "outputs": [],
   "source": [
    "def circle(radius):\n",
    "    arc(radius, 360)"
   ]
  },
  {
   "cell_type": "code",
   "execution_count": 23,
   "id": "e1ea520e-ea4c-4d99-9a60-b84cf5f7da59",
   "metadata": {},
   "outputs": [
    {
     "data": {
      "text/html": [
       "<svg width=\"300\" height=\"150\" style=\"fill:none; stroke-linecap:round;\">\n",
       "    <rect width=\"100%\" height=\"100%\" fill=\"#F3F3F7\" />\n",
       "\n",
       "\n",
       "<path stroke=\"#663399\" stroke-width=\"2\" d=\"M 150,75 159,75 167.6,72.2 174.8,66.9 180.1,59.6 182.9,51.1 182.9,42.1 180.1,33.5 174.8,26.2 167.6,21 159,18.2 150,18.2 141.4,21 134.2,26.2 128.9,33.5 126.1,42.1 126.1,51.1 128.9,59.6 134.2,66.9 141.4,72.2 150,75 152.9,75 155.7,74.9 158.5,74.7 161.4,74.3 164.2,73.8 167,73.3 169.7,72.6 172.5,71.8 175.2,70.9 177.8,69.8 180.5,68.7 183,67.5 185.5,66.1 188,64.7 190.4,63.2 192.7,61.5 195,59.8 197.2,58 199.3,56.1 201.4,54.1 203.3,52 205.2,49.9 207,47.6 208.7,45.3 210.2,43 211.7,40.5 213.1,38.1 214.4,35.5 215.6,32.9 216.7,30.3 217.4,28.3 217.7,26.2 217.6,24.2 217,22.1 216,20.3 214.7,18.7 213,17.4 211.1,16.5 209.1,16 207,15.9 204.9,16.3 203,17 201.3,18.2 199.8,19.7 198.7,21.5 198,23.5 197.7,25.5 197.8,27.6 198.4,29.6 199.4,31.5 200.7,33.1 202.4,34.4 204.3,35.3 206.3,35.8 208.4,35.9 210.5,35.5 212.4,34.7 214.1,33.6 215.6,32.1 216.7,30.3\" />'\n",
       "\n",
       "<g transform=\"rotate(200.0,216.7,30.3) translate(216.7, 30.3)\">\n",
       "    <circle stroke=\"#63A375\" stroke-width=\"2\" fill=\"transparent\" r=\"5.5\" cx=\"0\" cy=\"0\"/>\n",
       "    <polygon points=\"0,12 2,9 -2,9\" style=\"fill:#63A375;stroke:#63A375;stroke-width:2\"/>\n",
       "</g>\n",
       "\n",
       "</svg>"
      ],
      "text/plain": [
       "<IPython.core.display.HTML object>"
      ]
     },
     "metadata": {},
     "output_type": "display_data"
    }
   ],
   "source": [
    "make_turtle(delay=0.03)\n",
    "polygon(n=20, length=9)\n",
    "arc(radius=70, angle=70)\n",
    "circle(radius=10)"
   ]
  },
  {
   "cell_type": "markdown",
   "id": "ef74729b-bb0d-4afa-b6ab-533c1b128287",
   "metadata": {},
   "source": [
    "## Stack Diagram"
   ]
  },
  {
   "cell_type": "markdown",
   "id": "973ba4e2-a6f3-4ee2-b49a-c60d1c22b42a",
   "metadata": {},
   "source": [
    "## A Development Plan"
   ]
  },
  {
   "cell_type": "markdown",
   "id": "9b37f937-5d23-4010-b0bd-f8db5c35eafa",
   "metadata": {},
   "source": [
    "## Docstrings"
   ]
  },
  {
   "cell_type": "code",
   "execution_count": 24,
   "id": "5c8c6da0-df87-4e00-baae-b09837f81900",
   "metadata": {},
   "outputs": [],
   "source": [
    "def polyline(n, length, angle):\n",
    "    \"\"\"Draws line segments with the given length and angle between them.\n",
    "\n",
    "    n: integer number of line segments\n",
    "    length: length of the line segments\n",
    "    angle: angle between segments (in degrees)\n",
    "    \"\"\"\n",
    "    for i in range(n):\n",
    "        forward(length)\n",
    "        left(angle)"
   ]
  }
 ],
 "metadata": {
  "kernelspec": {
   "display_name": "Python 3 (ipykernel)",
   "language": "python",
   "name": "python3"
  },
  "language_info": {
   "codemirror_mode": {
    "name": "ipython",
    "version": 3
   },
   "file_extension": ".py",
   "mimetype": "text/x-python",
   "name": "python",
   "nbconvert_exporter": "python",
   "pygments_lexer": "ipython3",
   "version": "3.11.2"
  }
 },
 "nbformat": 4,
 "nbformat_minor": 5
}
