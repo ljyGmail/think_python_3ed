{
 "cells": [
  {
   "cell_type": "markdown",
   "id": "99514da9",
   "metadata": {},
   "source": [
    "# Chapter 2 Variables and Statements"
   ]
  },
  {
   "cell_type": "markdown",
   "id": "43cf870b",
   "metadata": {},
   "source": [
    "## Variables"
   ]
  },
  {
   "cell_type": "code",
   "execution_count": 1,
   "id": "e34c1db3",
   "metadata": {},
   "outputs": [],
   "source": [
    "n = 17"
   ]
  },
  {
   "cell_type": "code",
   "execution_count": 2,
   "id": "77ed29f6",
   "metadata": {},
   "outputs": [],
   "source": [
    "pi = 3.141592653589793"
   ]
  },
  {
   "cell_type": "code",
   "execution_count": 3,
   "id": "491ae1cf",
   "metadata": {},
   "outputs": [],
   "source": [
    "message = 'And now for something completely different'"
   ]
  },
  {
   "cell_type": "code",
   "execution_count": 4,
   "id": "0ce51cbe",
   "metadata": {},
   "outputs": [
    {
     "data": {
      "text/plain": [
       "'And now for something completely different'"
      ]
     },
     "execution_count": 4,
     "metadata": {},
     "output_type": "execute_result"
    }
   ],
   "source": [
    "message"
   ]
  },
  {
   "cell_type": "code",
   "execution_count": 5,
   "id": "4bef093f",
   "metadata": {},
   "outputs": [
    {
     "data": {
      "text/plain": [
       "42"
      ]
     },
     "execution_count": 5,
     "metadata": {},
     "output_type": "execute_result"
    }
   ],
   "source": [
    "n + 25"
   ]
  },
  {
   "cell_type": "code",
   "execution_count": 6,
   "id": "5e7e0688",
   "metadata": {},
   "outputs": [
    {
     "data": {
      "text/plain": [
       "6.283185307179586"
      ]
     },
     "execution_count": 6,
     "metadata": {},
     "output_type": "execute_result"
    }
   ],
   "source": [
    "2 * pi"
   ]
  },
  {
   "cell_type": "code",
   "execution_count": 7,
   "id": "65ae21bd",
   "metadata": {},
   "outputs": [
    {
     "data": {
      "text/plain": [
       "3"
      ]
     },
     "execution_count": 7,
     "metadata": {},
     "output_type": "execute_result"
    }
   ],
   "source": [
    "round(pi)"
   ]
  },
  {
   "cell_type": "code",
   "execution_count": 8,
   "id": "f4845152",
   "metadata": {},
   "outputs": [
    {
     "data": {
      "text/plain": [
       "42"
      ]
     },
     "execution_count": 8,
     "metadata": {},
     "output_type": "execute_result"
    }
   ],
   "source": [
    "len(message)"
   ]
  },
  {
   "cell_type": "markdown",
   "id": "d60fdfb9",
   "metadata": {},
   "source": [
    "## State Diagrams"
   ]
  },
  {
   "cell_type": "markdown",
   "id": "5e306dcd",
   "metadata": {},
   "source": [
    "## Variable Names"
   ]
  },
  {
   "cell_type": "code",
   "execution_count": 9,
   "id": "08fb005e",
   "metadata": {},
   "outputs": [],
   "source": [
    "# SyntaxError: invalid syntax\n",
    "# million! = 1000000"
   ]
  },
  {
   "cell_type": "code",
   "execution_count": 10,
   "id": "f1bdb928",
   "metadata": {},
   "outputs": [],
   "source": [
    "# SyntaxError: invalid syntax\n",
    "# 76trombones = 'big parade'"
   ]
  },
  {
   "cell_type": "code",
   "execution_count": 11,
   "id": "e508b552",
   "metadata": {},
   "outputs": [],
   "source": [
    "# SyntaxError: invalid syntax\n",
    "# class = 'Self-Defence Against Fresh Fruit'"
   ]
  },
  {
   "cell_type": "markdown",
   "id": "5006b2e7",
   "metadata": {},
   "source": [
    "## The import Statement"
   ]
  },
  {
   "cell_type": "code",
   "execution_count": 12,
   "id": "5cc0404e",
   "metadata": {},
   "outputs": [],
   "source": [
    "import math"
   ]
  },
  {
   "cell_type": "code",
   "execution_count": 13,
   "id": "7efdfd10",
   "metadata": {},
   "outputs": [
    {
     "data": {
      "text/plain": [
       "3.141592653589793"
      ]
     },
     "execution_count": 13,
     "metadata": {},
     "output_type": "execute_result"
    }
   ],
   "source": [
    "math.pi"
   ]
  },
  {
   "cell_type": "code",
   "execution_count": 14,
   "id": "2e5cf758",
   "metadata": {},
   "outputs": [
    {
     "data": {
      "text/plain": [
       "5.0"
      ]
     },
     "execution_count": 14,
     "metadata": {},
     "output_type": "execute_result"
    }
   ],
   "source": [
    "math.sqrt(25)"
   ]
  },
  {
   "cell_type": "code",
   "execution_count": 15,
   "id": "5241abee",
   "metadata": {},
   "outputs": [
    {
     "data": {
      "text/plain": [
       "25.0"
      ]
     },
     "execution_count": 15,
     "metadata": {},
     "output_type": "execute_result"
    }
   ],
   "source": [
    "math.pow(5, 2)"
   ]
  },
  {
   "cell_type": "markdown",
   "id": "e0efc965",
   "metadata": {},
   "source": [
    "## Expressions and Statements"
   ]
  },
  {
   "cell_type": "code",
   "execution_count": 16,
   "id": "dab2450a",
   "metadata": {},
   "outputs": [
    {
     "data": {
      "text/plain": [
       "42"
      ]
     },
     "execution_count": 16,
     "metadata": {},
     "output_type": "execute_result"
    }
   ],
   "source": [
    "19 + n + round(math.pi) * 2"
   ]
  },
  {
   "cell_type": "code",
   "execution_count": 17,
   "id": "7bc962dd",
   "metadata": {},
   "outputs": [],
   "source": [
    "n = 17"
   ]
  },
  {
   "cell_type": "markdown",
   "id": "4523532b",
   "metadata": {},
   "source": [
    "## The print Function"
   ]
  },
  {
   "cell_type": "code",
   "execution_count": 18,
   "id": "00e205ca",
   "metadata": {},
   "outputs": [
    {
     "data": {
      "text/plain": [
       "18"
      ]
     },
     "execution_count": 18,
     "metadata": {},
     "output_type": "execute_result"
    }
   ],
   "source": [
    "n + 1"
   ]
  },
  {
   "cell_type": "code",
   "execution_count": 19,
   "id": "184f5f41",
   "metadata": {},
   "outputs": [
    {
     "data": {
      "text/plain": [
       "20"
      ]
     },
     "execution_count": 19,
     "metadata": {},
     "output_type": "execute_result"
    }
   ],
   "source": [
    "n + 2\n",
    "n + 3"
   ]
  },
  {
   "cell_type": "code",
   "execution_count": 20,
   "id": "7ac8b311",
   "metadata": {},
   "outputs": [
    {
     "name": "stdout",
     "output_type": "stream",
     "text": [
      "19\n",
      "20\n"
     ]
    }
   ],
   "source": [
    "print(n + 2)\n",
    "print(n + 3)"
   ]
  },
  {
   "cell_type": "code",
   "execution_count": 21,
   "id": "42971424",
   "metadata": {},
   "outputs": [
    {
     "name": "stdout",
     "output_type": "stream",
     "text": [
      "The value of pi is approximately\n",
      "3.141592653589793\n"
     ]
    }
   ],
   "source": [
    "print('The value of pi is approximately')\n",
    "print(math.pi)"
   ]
  },
  {
   "cell_type": "code",
   "execution_count": 22,
   "id": "08bed1f3",
   "metadata": {},
   "outputs": [
    {
     "name": "stdout",
     "output_type": "stream",
     "text": [
      "The value of pi is approximately 3.141592653589793\n"
     ]
    }
   ],
   "source": [
    "print('The value of pi is approximately', math.pi)"
   ]
  },
  {
   "cell_type": "markdown",
   "id": "9aae22ea",
   "metadata": {},
   "source": [
    "## Arguments"
   ]
  },
  {
   "cell_type": "code",
   "execution_count": 23,
   "id": "91e329fe",
   "metadata": {},
   "outputs": [
    {
     "data": {
      "text/plain": [
       "101"
      ]
     },
     "execution_count": 23,
     "metadata": {},
     "output_type": "execute_result"
    }
   ],
   "source": [
    "int('101')"
   ]
  },
  {
   "cell_type": "code",
   "execution_count": 24,
   "id": "dba2c9cc",
   "metadata": {},
   "outputs": [
    {
     "data": {
      "text/plain": [
       "25.0"
      ]
     },
     "execution_count": 24,
     "metadata": {},
     "output_type": "execute_result"
    }
   ],
   "source": [
    "math.pow(5, 2)"
   ]
  },
  {
   "cell_type": "code",
   "execution_count": 25,
   "id": "7cd4bac1",
   "metadata": {},
   "outputs": [
    {
     "data": {
      "text/plain": [
       "5"
      ]
     },
     "execution_count": 25,
     "metadata": {},
     "output_type": "execute_result"
    }
   ],
   "source": [
    "int('101', 2)"
   ]
  },
  {
   "cell_type": "code",
   "execution_count": 26,
   "id": "b87e7132",
   "metadata": {},
   "outputs": [
    {
     "data": {
      "text/plain": [
       "3.142"
      ]
     },
     "execution_count": 26,
     "metadata": {},
     "output_type": "execute_result"
    }
   ],
   "source": [
    "round(math.pi, 3)"
   ]
  },
  {
   "cell_type": "code",
   "execution_count": 27,
   "id": "604417f6",
   "metadata": {},
   "outputs": [
    {
     "name": "stdout",
     "output_type": "stream",
     "text": [
      "Any number of arguments\n"
     ]
    }
   ],
   "source": [
    "print('Any', 'number', 'of', 'arguments')"
   ]
  },
  {
   "cell_type": "code",
   "execution_count": 28,
   "id": "80cc8d20",
   "metadata": {},
   "outputs": [],
   "source": [
    "# TypeError: float expected at most 1 argument, got 2\n",
    "# float('123.0', 2)"
   ]
  },
  {
   "cell_type": "code",
   "execution_count": 29,
   "id": "2e4b6c13",
   "metadata": {},
   "outputs": [],
   "source": [
    "# TypeError: pow expected 2 arguments, got 1\n",
    "# math.pow(2)"
   ]
  },
  {
   "cell_type": "code",
   "execution_count": 30,
   "id": "242e44d2",
   "metadata": {},
   "outputs": [],
   "source": [
    "# TypeError: must be real number, not str\n",
    "# math.sqrt('123')"
   ]
  },
  {
   "cell_type": "markdown",
   "id": "a3ab802c",
   "metadata": {},
   "source": [
    "## Comments"
   ]
  },
  {
   "cell_type": "code",
   "execution_count": 31,
   "id": "1504e914",
   "metadata": {},
   "outputs": [],
   "source": [
    "# number of seconds in 42:42\n",
    "seconds = 42 * 60 + 42"
   ]
  },
  {
   "cell_type": "code",
   "execution_count": 32,
   "id": "6ad9d1df",
   "metadata": {},
   "outputs": [],
   "source": [
    "miles = 10 / 1.61   # 10 kilometers in miles"
   ]
  },
  {
   "cell_type": "code",
   "execution_count": 33,
   "id": "75c99a7a",
   "metadata": {},
   "outputs": [],
   "source": [
    "# This comment is redundant with the code and useless:\n",
    "v = 8    # assign 8 to v"
   ]
  },
  {
   "cell_type": "code",
   "execution_count": 34,
   "id": "8bdc1ac7",
   "metadata": {},
   "outputs": [],
   "source": [
    "# This comment contains useful information that is not in the code:\n",
    "v = 8    # velocity in miles per hour"
   ]
  },
  {
   "cell_type": "markdown",
   "id": "96f24672",
   "metadata": {},
   "source": [
    "## Debugging"
   ]
  },
  {
   "cell_type": "code",
   "execution_count": 35,
   "id": "14af66f9",
   "metadata": {},
   "outputs": [],
   "source": [
    "# SyntaxError\n",
    "# million! = 1000000"
   ]
  },
  {
   "cell_type": "code",
   "execution_count": 36,
   "id": "f5462129",
   "metadata": {},
   "outputs": [],
   "source": [
    "# Runtime error\n",
    "# '126' / 3"
   ]
  },
  {
   "cell_type": "code",
   "execution_count": 37,
   "id": "63c9ff6a",
   "metadata": {},
   "outputs": [
    {
     "data": {
      "text/plain": [
       "2.5"
      ]
     },
     "execution_count": 37,
     "metadata": {},
     "output_type": "execute_result"
    }
   ],
   "source": [
    "# Semantic error. Suppose we want to compute the average of 1 and 3:\n",
    "1 + 3 / 2"
   ]
  }
 ],
 "metadata": {
  "kernelspec": {
   "display_name": "Python 3 (ipykernel)",
   "language": "python",
   "name": "python3"
  },
  "language_info": {
   "codemirror_mode": {
    "name": "ipython",
    "version": 3
   },
   "file_extension": ".py",
   "mimetype": "text/x-python",
   "name": "python",
   "nbconvert_exporter": "python",
   "pygments_lexer": "ipython3",
   "version": "3.8.16"
  }
 },
 "nbformat": 4,
 "nbformat_minor": 5
}
