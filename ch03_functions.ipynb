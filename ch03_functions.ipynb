{
 "cells": [
  {
   "cell_type": "markdown",
   "id": "00b85e3b",
   "metadata": {},
   "source": [
    "# Chapter3 Functions"
   ]
  },
  {
   "cell_type": "markdown",
   "id": "1fdcb280",
   "metadata": {},
   "source": [
    "## Defining New Functions"
   ]
  },
  {
   "cell_type": "code",
   "execution_count": 1,
   "id": "3be3284e",
   "metadata": {},
   "outputs": [],
   "source": [
    "def print_lyrics():\n",
    "    print(\"I'm a lumberjack, and I'm okay.\")\n",
    "    print(\"I sleep all night and I work all day.\")"
   ]
  },
  {
   "cell_type": "code",
   "execution_count": 2,
   "id": "eee85995",
   "metadata": {},
   "outputs": [
    {
     "data": {
      "text/plain": [
       "<function __main__.print_lyrics()>"
      ]
     },
     "execution_count": 2,
     "metadata": {},
     "output_type": "execute_result"
    }
   ],
   "source": [
    "print_lyrics"
   ]
  },
  {
   "cell_type": "code",
   "execution_count": 3,
   "id": "a9d5dc2e",
   "metadata": {},
   "outputs": [
    {
     "name": "stdout",
     "output_type": "stream",
     "text": [
      "I'm a lumberjack, and I'm okay.\n",
      "I sleep all night and I work all day.\n"
     ]
    }
   ],
   "source": [
    " print_lyrics()"
   ]
  },
  {
   "cell_type": "markdown",
   "id": "17ea9296",
   "metadata": {},
   "source": [
    "## Parameters"
   ]
  },
  {
   "cell_type": "code",
   "execution_count": 4,
   "id": "323f5b5f",
   "metadata": {},
   "outputs": [],
   "source": [
    "def print_twice(string):\n",
    "    print(string)\n",
    "    print(string)"
   ]
  },
  {
   "cell_type": "code",
   "execution_count": 5,
   "id": "8a682851",
   "metadata": {},
   "outputs": [
    {
     "name": "stdout",
     "output_type": "stream",
     "text": [
      "Dennis Moore, \n",
      "Dennis Moore, \n"
     ]
    }
   ],
   "source": [
    "print_twice('Dennis Moore, ')"
   ]
  },
  {
   "cell_type": "code",
   "execution_count": 6,
   "id": "864ea655",
   "metadata": {},
   "outputs": [
    {
     "name": "stdout",
     "output_type": "stream",
     "text": [
      "Dennis Moore, \n",
      "Dennis Moore, \n"
     ]
    }
   ],
   "source": [
    "string = 'Dennis Moore, '\n",
    "print(string)\n",
    "print(string)"
   ]
  },
  {
   "cell_type": "code",
   "execution_count": 7,
   "id": "d86281e7",
   "metadata": {},
   "outputs": [
    {
     "name": "stdout",
     "output_type": "stream",
     "text": [
      "Dennis Moore, \n",
      "Dennis Moore, \n"
     ]
    }
   ],
   "source": [
    "line = 'Dennis Moore, '\n",
    "print_twice(line)"
   ]
  },
  {
   "cell_type": "markdown",
   "id": "d23f73a8",
   "metadata": {},
   "source": [
    "## Calling Functions"
   ]
  },
  {
   "cell_type": "code",
   "execution_count": 8,
   "id": "eb8da5ab",
   "metadata": {},
   "outputs": [],
   "source": [
    "def repeat(word, n):\n",
    "    print(word * n)"
   ]
  },
  {
   "cell_type": "code",
   "execution_count": 9,
   "id": "f57cc7a0",
   "metadata": {},
   "outputs": [
    {
     "name": "stdout",
     "output_type": "stream",
     "text": [
      "Spam, Spam, Spam, Spam, \n"
     ]
    }
   ],
   "source": [
    "spam = 'Spam, '\n",
    "repeat(spam, 4)"
   ]
  },
  {
   "cell_type": "code",
   "execution_count": 10,
   "id": "82ddb459",
   "metadata": {},
   "outputs": [],
   "source": [
    "def first_two_lines():\n",
    "    repeat(spam, 4)\n",
    "    repeat(spam, 4)"
   ]
  },
  {
   "cell_type": "code",
   "execution_count": 11,
   "id": "2c2f66aa",
   "metadata": {},
   "outputs": [
    {
     "name": "stdout",
     "output_type": "stream",
     "text": [
      "Spam, Spam, Spam, Spam, \n",
      "Spam, Spam, Spam, Spam, \n"
     ]
    }
   ],
   "source": [
    "first_two_lines()"
   ]
  },
  {
   "cell_type": "code",
   "execution_count": 12,
   "id": "e6cda41f",
   "metadata": {},
   "outputs": [],
   "source": [
    "def last_three_lines():\n",
    "    repeat(spam, 2)\n",
    "    print('(Lovely Spam, Wonderful Spam!)')\n",
    "    repeat(spam, 2)"
   ]
  },
  {
   "cell_type": "code",
   "execution_count": 13,
   "id": "91289ca6",
   "metadata": {},
   "outputs": [
    {
     "name": "stdout",
     "output_type": "stream",
     "text": [
      "Spam, Spam, \n",
      "(Lovely Spam, Wonderful Spam!)\n",
      "Spam, Spam, \n"
     ]
    }
   ],
   "source": [
    "last_three_lines()"
   ]
  },
  {
   "cell_type": "code",
   "execution_count": 14,
   "id": "844ef4c2",
   "metadata": {},
   "outputs": [],
   "source": [
    "def print_verse():\n",
    "    first_two_lines()\n",
    "    last_three_lines()"
   ]
  },
  {
   "cell_type": "code",
   "execution_count": 15,
   "id": "fde6b8ef",
   "metadata": {},
   "outputs": [
    {
     "name": "stdout",
     "output_type": "stream",
     "text": [
      "Spam, Spam, Spam, Spam, \n",
      "Spam, Spam, Spam, Spam, \n",
      "Spam, Spam, \n",
      "(Lovely Spam, Wonderful Spam!)\n",
      "Spam, Spam, \n"
     ]
    }
   ],
   "source": [
    "print_verse()"
   ]
  },
  {
   "cell_type": "markdown",
   "id": "86420dab",
   "metadata": {},
   "source": [
    "## Repetition"
   ]
  },
  {
   "cell_type": "code",
   "execution_count": 16,
   "id": "657ba043",
   "metadata": {},
   "outputs": [
    {
     "name": "stdout",
     "output_type": "stream",
     "text": [
      "0\n",
      "1\n"
     ]
    }
   ],
   "source": [
    "for i in range(2):\n",
    "    print(i)"
   ]
  },
  {
   "cell_type": "code",
   "execution_count": 17,
   "id": "9a4d79a1",
   "metadata": {},
   "outputs": [
    {
     "name": "stdout",
     "output_type": "stream",
     "text": [
      "Verse 0\n",
      "Spam, Spam, Spam, Spam, \n",
      "Spam, Spam, Spam, Spam, \n",
      "Spam, Spam, \n",
      "(Lovely Spam, Wonderful Spam!)\n",
      "Spam, Spam, \n",
      "\n",
      "Verse 1\n",
      "Spam, Spam, Spam, Spam, \n",
      "Spam, Spam, Spam, Spam, \n",
      "Spam, Spam, \n",
      "(Lovely Spam, Wonderful Spam!)\n",
      "Spam, Spam, \n",
      "\n"
     ]
    }
   ],
   "source": [
    "for i in range(2):\n",
    "    print(\"Verse\", i)\n",
    "    print_verse()\n",
    "    print()"
   ]
  },
  {
   "cell_type": "code",
   "execution_count": 18,
   "id": "873e5f74",
   "metadata": {},
   "outputs": [],
   "source": [
    "def print_n_verses(n):\n",
    "    for i in range(n):\n",
    "        print_verse()\n",
    "        print()"
   ]
  },
  {
   "cell_type": "markdown",
   "id": "5a1136b8",
   "metadata": {},
   "source": [
    "## Variables and Parameters Are Local"
   ]
  },
  {
   "cell_type": "code",
   "execution_count": 19,
   "id": "ed8045de",
   "metadata": {},
   "outputs": [],
   "source": [
    "def cat_twice(part1, part2):\n",
    "    cat = part1 + part2\n",
    "    print_twice(cat)"
   ]
  },
  {
   "cell_type": "code",
   "execution_count": 20,
   "id": "839c9e25",
   "metadata": {},
   "outputs": [
    {
     "name": "stdout",
     "output_type": "stream",
     "text": [
      "Always look on the bright side of life.\n",
      "Always look on the bright side of life.\n"
     ]
    }
   ],
   "source": [
    "line1 = 'Always look on the '\n",
    "line2 = 'bright side of life.'\n",
    "cat_twice(line1, line2)"
   ]
  },
  {
   "cell_type": "code",
   "execution_count": 21,
   "id": "a9a89774",
   "metadata": {},
   "outputs": [],
   "source": [
    "# NameError: name 'cat' is not defined\n",
    "# print(cat)"
   ]
  },
  {
   "cell_type": "markdown",
   "id": "de87a19a",
   "metadata": {},
   "source": [
    "## Stack Diagrams"
   ]
  },
  {
   "cell_type": "markdown",
   "id": "fb543b2d",
   "metadata": {},
   "source": [
    "## Tracebacks"
   ]
  },
  {
   "cell_type": "code",
   "execution_count": 22,
   "id": "bce13bfc",
   "metadata": {},
   "outputs": [],
   "source": [
    "def print_twice(string):\n",
    "    print(cat)\n",
    "    print(cat)"
   ]
  },
  {
   "cell_type": "code",
   "execution_count": 23,
   "id": "b995bc35",
   "metadata": {},
   "outputs": [],
   "source": [
    "# NameError: name 'cat' is not defined\n",
    "# cat_twice(line1, line2)"
   ]
  },
  {
   "cell_type": "markdown",
   "id": "fba57276",
   "metadata": {},
   "source": [
    "## Why Functions?"
   ]
  }
 ],
 "metadata": {
  "kernelspec": {
   "display_name": "Python 3 (ipykernel)",
   "language": "python",
   "name": "python3"
  },
  "language_info": {
   "codemirror_mode": {
    "name": "ipython",
    "version": 3
   },
   "file_extension": ".py",
   "mimetype": "text/x-python",
   "name": "python",
   "nbconvert_exporter": "python",
   "pygments_lexer": "ipython3",
   "version": "3.8.16"
  }
 },
 "nbformat": 4,
 "nbformat_minor": 5
}
